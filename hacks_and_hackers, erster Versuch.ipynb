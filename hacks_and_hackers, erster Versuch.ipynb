{
 "cells": [
  {
   "cell_type": "code",
   "execution_count": 4,
   "metadata": {
    "collapsed": true
   },
   "outputs": [],
   "source": [
    "import pandas as pd\n",
    "import glob\n",
    "import time\n",
    "from collections import Counter\n"
   ]
  },
  {
   "cell_type": "markdown",
   "metadata": {},
   "source": [
    "# String"
   ]
  },
  {
   "cell_type": "code",
   "execution_count": 5,
   "metadata": {
    "collapsed": true
   },
   "outputs": [],
   "source": [
    "long_str = 'M.________ geriet am 11. August 2001 um 0.15 Uhr in Sarmenstorf in eine Verkehrskontrolle der Kantonspolizei Aargau. Da bei ihm Alkoholmundgeruch feststellbar war, führte die Polizei einen Alco-Test durch, der einen Wert von knapp über 0,8 Promille ergab. Ein zweiter Alco-Test zeigte mehr als 0,6 Promille an, lag aber deutlich unter 0,8 Promille. Die um 0.40 Uhr vorgenommene Blutprobe wurde vom Institut für Rechtsmedizin (IRM) der Universität Bern analysiert und ergab einen Minimalwert von 0,81 Promille.'"
   ]
  },
  {
   "cell_type": "markdown",
   "metadata": {},
   "source": [
    "M.________ geriet am 11. August 2001 um 0.15 Uhr in Sarmenstorf in eine Verkehrskontrolle der Kantonspolizei Aargau. Da bei ihm Alkoholmundgeruch feststellbar war, führte die Polizei einen Alco-Test durch, der einen Wert von knapp über 0,8 Promille ergab. Ein zweiter Alco-Test zeigte mehr als 0,6 Promille an, lag aber deutlich unter 0,8 Promille. Die um 0.40 Uhr vorgenommene Blutprobe wurde vom Institut für Rechtsmedizin (IRM) der Universität Bern analysiert und ergab einen Minimalwert von 0,81 Promille. "
   ]
  },
  {
   "cell_type": "markdown",
   "metadata": {},
   "source": [
    "# Wiederholungen"
   ]
  },
  {
   "cell_type": "code",
   "execution_count": 6,
   "metadata": {},
   "outputs": [
    {
     "name": "stdout",
     "output_type": "stream",
     "text": [
      "0.0034680000000000266 seconds\n"
     ]
    }
   ],
   "source": [
    "times=3\n",
    "start_time = time.clock()\n",
    "for n in range(1,int(len(long_str)/times+1)):\n",
    "    substrings=[long_str[i:i+n] for i in range(len(long_str)-n+1)]\n",
    "    freqs=Counter(substrings)\n",
    "    if freqs.most_common(1)[0][1]<3:\n",
    "        n-=1\n",
    "        break\n",
    "    else:\n",
    "        seq=freqs.most_common(1)[0][0]\n",
    "print(time.clock() - start_time, \"seconds\")"
   ]
  },
  {
   "cell_type": "code",
   "execution_count": 7,
   "metadata": {},
   "outputs": [
    {
     "data": {
      "text/plain": [
       "' Promille'"
      ]
     },
     "execution_count": 7,
     "metadata": {},
     "output_type": "execute_result"
    }
   ],
   "source": [
    "seq"
   ]
  },
  {
   "cell_type": "markdown",
   "metadata": {},
   "source": [
    "# Aber... je länger der String, desto länger dauert die Suche"
   ]
  },
  {
   "cell_type": "code",
   "execution_count": 8,
   "metadata": {},
   "outputs": [],
   "source": [
    "long_str = long_str + long_str + long_str + long_str"
   ]
  },
  {
   "cell_type": "code",
   "execution_count": 9,
   "metadata": {},
   "outputs": [
    {
     "name": "stdout",
     "output_type": "stream",
     "text": [
      "0.8328060000000002 seconds\n"
     ]
    }
   ],
   "source": [
    "start_time = time.clock()\n",
    "times=3\n",
    "\n",
    "for n in range(1,int(len(long_str)/times+1)):\n",
    "    substrings=[long_str[i:i+n] for i in range(len(long_str)-n+1)]\n",
    "    freqs=Counter(substrings)\n",
    "    if freqs.most_common(1)[0][1]<3:\n",
    "        n-=1\n",
    "        break\n",
    "    else:\n",
    "        seq=freqs.most_common(1)[0][0]\n",
    "print(time.clock() - start_time, \"seconds\")"
   ]
  },
  {
   "cell_type": "code",
   "execution_count": 10,
   "metadata": {},
   "outputs": [
    {
     "data": {
      "text/plain": [
       "'t 2001 um 0.15 Uhr in Sarmenstorf in eine Verkehrskontrolle der Kantonspolizei Aargau. Da bei ihm Alkoholmundgeruch feststellbar war, führte die Polizei einen Alco-Test durch, der einen Wert von knapp über 0,8 Promille ergab. Ein zweiter Alco-Test zeigte mehr als 0,6 Promille an, lag aber deutlich unter 0,8 Promille. Die um 0.40 Uhr vorgenommene Blutprobe wurde vom Institut für Rechtsmedizin (IRM) der Universität Bern analysiert und ergab einen Minimalwert von 0,81 Promille.M.________ geriet am 11. August 2001 um 0.15 Uhr in Sarmenstorf in eine Verkehrskontrolle der Kantonspolizei Aargau. Da bei ihm Alkoholmundgeruch feststellbar war, führte die Polizei einen Alco-Test '"
      ]
     },
     "execution_count": 10,
     "metadata": {},
     "output_type": "execute_result"
    }
   ],
   "source": [
    "seq"
   ]
  },
  {
   "cell_type": "code",
   "execution_count": 11,
   "metadata": {},
   "outputs": [],
   "source": [
    "long_str = long_str + long_str"
   ]
  },
  {
   "cell_type": "code",
   "execution_count": 12,
   "metadata": {},
   "outputs": [
    {
     "name": "stdout",
     "output_type": "stream",
     "text": [
      "4.965913 seconds\n"
     ]
    }
   ],
   "source": [
    "start_time = time.clock()\n",
    "times=3\n",
    "\n",
    "for n in range(1,int(len(long_str )/times+1)):\n",
    "    substrings=[long_str [i:i+n] for i in range(len(long_str )-n+1)]\n",
    "    freqs=Counter(substrings)\n",
    "    if freqs.most_common(1)[0][1]<3:\n",
    "        n-=1\n",
    "        break\n",
    "    else:\n",
    "        seq=freqs.most_common(1)[0][0]\n",
    "print(time.clock() - start_time, \"seconds\")"
   ]
  },
  {
   "cell_type": "markdown",
   "metadata": {},
   "source": [
    "- 0.001 Sekunden\n",
    "- 0.8 Sekunden\n",
    "- 5 Sekunden"
   ]
  },
  {
   "cell_type": "code",
   "execution_count": 13,
   "metadata": {
    "collapsed": true
   },
   "outputs": [],
   "source": [
    "long_str = long_str + long_str"
   ]
  },
  {
   "cell_type": "code",
   "execution_count": 14,
   "metadata": {},
   "outputs": [
    {
     "name": "stdout",
     "output_type": "stream",
     "text": [
      "32.749931000000004 seconds\n"
     ]
    }
   ],
   "source": [
    "start_time = time.clock()\n",
    "times=3\n",
    "\n",
    "for n in range(1,int(len(long_str )/times+1)):\n",
    "    substrings=[long_str [i:i+n] for i in range(len(long_str )-n+1)]\n",
    "    freqs=Counter(substrings)\n",
    "    if freqs.most_common(1)[0][1]<3:\n",
    "        n-=1\n",
    "        break\n",
    "    else:\n",
    "        seq=freqs.most_common(1)[0][0]\n",
    "print(time.clock() - start_time, \"seconds\")"
   ]
  },
  {
   "cell_type": "markdown",
   "metadata": {},
   "source": [
    "# Und wie lange sind alle BG-Urteile?"
   ]
  },
  {
   "cell_type": "code",
   "execution_count": 15,
   "metadata": {
    "collapsed": true
   },
   "outputs": [],
   "source": [
    "df = pd.read_csv('data/df_final_harm.csv') #Diese Daten sind nicht bei Github abgelegt"
   ]
  },
  {
   "cell_type": "code",
   "execution_count": 16,
   "metadata": {},
   "outputs": [],
   "source": [
    "whole_list_of_file_names = []\n",
    "for name in glob.glob('txt_files/*'):\n",
    "    name = name.split('/')[-1]\n",
    "    whole_list_of_file_names.append(name)"
   ]
  },
  {
   "cell_type": "code",
   "execution_count": 17,
   "metadata": {},
   "outputs": [
    {
     "data": {
      "text/plain": [
       "76874"
      ]
     },
     "execution_count": 17,
     "metadata": {},
     "output_type": "execute_result"
    }
   ],
   "source": [
    "len(whole_list_of_file_names)"
   ]
  },
  {
   "cell_type": "code",
   "execution_count": 18,
   "metadata": {
    "collapsed": true
   },
   "outputs": [],
   "source": [
    "super_long_string = ''\n",
    "for elem in whole_list_of_file_names:\n",
    "    file = open('txt_files/' + elem, 'r')\n",
    "    text = file.read()\n",
    "    super_long_string += text"
   ]
  },
  {
   "cell_type": "code",
   "execution_count": 19,
   "metadata": {},
   "outputs": [
    {
     "data": {
      "text/plain": [
       "1004763276"
      ]
     },
     "execution_count": 19,
     "metadata": {},
     "output_type": "execute_result"
    }
   ],
   "source": [
    "len(super_long_string)"
   ]
  },
  {
   "cell_type": "markdown",
   "metadata": {},
   "source": [
    "Um auf dieselbe Länge zu kommen, muss man den long_str Mal addieren. Die Rechendauer hingegen steigert sich um rund das 17 Fache."
   ]
  },
  {
   "cell_type": "code",
   "execution_count": 20,
   "metadata": {},
   "outputs": [
    {
     "name": "stdout",
     "output_type": "stream",
     "text": [
      "Rechendauer sind unglaubliche 5628 Milliarden Jahrtausende.\n"
     ]
    }
   ],
   "source": [
    " print('Rechendauer sind unglaubliche', round(35 ** 17 / 60 / 60 /24 /365 / 1000/ 1000000 / 1000000), 'Milliarden Jahrtausende.')"
   ]
  },
  {
   "cell_type": "code",
   "execution_count": null,
   "metadata": {
    "collapsed": true
   },
   "outputs": [],
   "source": []
  }
 ],
 "metadata": {
  "kernelspec": {
   "display_name": "Python 3",
   "language": "python",
   "name": "python3"
  },
  "language_info": {
   "codemirror_mode": {
    "name": "ipython",
    "version": 3
   },
   "file_extension": ".py",
   "mimetype": "text/x-python",
   "name": "python",
   "nbconvert_exporter": "python",
   "pygments_lexer": "ipython3",
   "version": "3.5.1"
  }
 },
 "nbformat": 4,
 "nbformat_minor": 2
}
