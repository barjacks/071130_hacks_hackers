{
 "cells": [
  {
   "cell_type": "code",
   "execution_count": 56,
   "metadata": {
    "collapsed": true
   },
   "outputs": [],
   "source": [
    "import re\n",
    "import pandas as pd\n",
    "import numpy as np\n",
    "from numpy import random\n",
    "import glob\n",
    "import time\n",
    "from collections import Counter\n",
    "from itertools import chain\n",
    "import pickle"
   ]
  },
  {
   "cell_type": "markdown",
   "metadata": {},
   "source": [
    "# String"
   ]
  },
  {
   "cell_type": "code",
   "execution_count": 57,
   "metadata": {
    "collapsed": true
   },
   "outputs": [],
   "source": [
    "long_str = 'M.________ geriet am 11. August 2001 um 0.15 Uhr in Sarmenstorf in eine Verkehrskontrolle der Kantonspolizei Aargau. Da bei ihm Alkoholmundgeruch feststellbar war, führte die Polizei einen Alco-Test durch, der einen Wert von knapp über 0,8 Promille ergab. Ein zweiter Alco-Test zeigte mehr als 0,6 Promille an, lag aber deutlich unter 0,8 Promille. Die um 0.40 Uhr vorgenommene Blutprobe wurde vom Institut für Rechtsmedizin (IRM) der Universität Bern analysiert und ergab einen Minimalwert von 0,81 Promille.'"
   ]
  },
  {
   "cell_type": "markdown",
   "metadata": {},
   "source": [
    "M.________ geriet am 11. August 2001 um 0.15 Uhr in Sarmenstorf in eine Verkehrskontrolle der Kantonspolizei Aargau. Da bei ihm Alkoholmundgeruch feststellbar war, führte die Polizei einen Alco-Test durch, der einen Wert von knapp über 0,8 Promille ergab. Ein zweiter Alco-Test zeigte mehr als 0,6 Promille an, lag aber deutlich unter 0,8 Promille. Die um 0.40 Uhr vorgenommene Blutprobe wurde vom Institut für Rechtsmedizin (IRM) der Universität Bern analysiert und ergab einen Minimalwert von 0,81 Promille. "
   ]
  },
  {
   "cell_type": "markdown",
   "metadata": {},
   "source": [
    "# Wiederholungen"
   ]
  },
  {
   "cell_type": "code",
   "execution_count": 58,
   "metadata": {},
   "outputs": [
    {
     "name": "stdout",
     "output_type": "stream",
     "text": [
      "0.00966900000000237 seconds\n"
     ]
    }
   ],
   "source": [
    "times=3\n",
    "start_time = time.clock()\n",
    "for n in range(1,int(len(long_str)/times+1)):\n",
    "    substrings=[long_str[i:i+n] for i in range(len(long_str)-n+1)]\n",
    "    freqs=Counter(substrings)\n",
    "    if freqs.most_common(1)[0][1]<3:\n",
    "        n-=1\n",
    "        break\n",
    "    else:\n",
    "        seq=freqs.most_common(1)[0][0]\n",
    "print(time.clock() - start_time, \"seconds\")"
   ]
  },
  {
   "cell_type": "code",
   "execution_count": 59,
   "metadata": {},
   "outputs": [
    {
     "data": {
      "text/plain": [
       "' Promille'"
      ]
     },
     "execution_count": 59,
     "metadata": {},
     "output_type": "execute_result"
    }
   ],
   "source": [
    "seq"
   ]
  },
  {
   "cell_type": "markdown",
   "metadata": {},
   "source": [
    "# Aber... je länger der String, desto länger dauert die Suche"
   ]
  },
  {
   "cell_type": "code",
   "execution_count": 60,
   "metadata": {},
   "outputs": [],
   "source": [
    "long_str = long_str + long_str + long_str + long_str"
   ]
  },
  {
   "cell_type": "code",
   "execution_count": 61,
   "metadata": {},
   "outputs": [
    {
     "name": "stdout",
     "output_type": "stream",
     "text": [
      "0.8477250000000112 seconds\n"
     ]
    }
   ],
   "source": [
    "start_time = time.clock()\n",
    "times=3\n",
    "\n",
    "for n in range(1,int(len(long_str)/times+1)):\n",
    "    substrings=[long_str[i:i+n] for i in range(len(long_str)-n+1)]\n",
    "    freqs=Counter(substrings)\n",
    "    if freqs.most_common(1)[0][1]<3:\n",
    "        n-=1\n",
    "        break\n",
    "    else:\n",
    "        seq=freqs.most_common(1)[0][0]\n",
    "print(time.clock() - start_time, \"seconds\")"
   ]
  },
  {
   "cell_type": "code",
   "execution_count": 62,
   "metadata": {},
   "outputs": [
    {
     "data": {
      "text/plain": [
       "'ne Verkehrskontrolle der Kantonspolizei Aargau. Da bei ihm Alkoholmundgeruch feststellbar war, führte die Polizei einen Alco-Test durch, der einen Wert von knapp über 0,8 Promille ergab. Ein zweiter Alco-Test zeigte mehr als 0,6 Promille an, lag aber deutlich unter 0,8 Promille. Die um 0.40 Uhr vorgenommene Blutprobe wurde vom Institut für Rechtsmedizin (IRM) der Universität Bern analysiert und ergab einen Minimalwert von 0,81 Promille.M.________ geriet am 11. August 2001 um 0.15 Uhr in Sarmenstorf in eine Verkehrskontrolle der Kantonspolizei Aargau. Da bei ihm Alkoholmundgeruch feststellbar war, führte die Polizei einen Alco-Test durch, der einen Wert von knapp über 0,'"
      ]
     },
     "execution_count": 62,
     "metadata": {},
     "output_type": "execute_result"
    }
   ],
   "source": [
    "seq"
   ]
  },
  {
   "cell_type": "code",
   "execution_count": 63,
   "metadata": {},
   "outputs": [],
   "source": [
    "long_str = long_str + long_str"
   ]
  },
  {
   "cell_type": "code",
   "execution_count": 64,
   "metadata": {},
   "outputs": [
    {
     "name": "stdout",
     "output_type": "stream",
     "text": [
      "4.951284000000001 seconds\n"
     ]
    }
   ],
   "source": [
    "start_time = time.clock()\n",
    "times=3\n",
    "\n",
    "for n in range(1,int(len(long_str )/times+1)):\n",
    "    substrings=[long_str [i:i+n] for i in range(len(long_str )-n+1)]\n",
    "    freqs=Counter(substrings)\n",
    "    if freqs.most_common(1)[0][1]<3:\n",
    "        n-=1\n",
    "        break\n",
    "    else:\n",
    "        seq=freqs.most_common(1)[0][0]\n",
    "print(time.clock() - start_time, \"seconds\")"
   ]
  },
  {
   "cell_type": "markdown",
   "metadata": {},
   "source": [
    "- 0.001 Sekunden\n",
    "- 0.8 Sekunden\n",
    "- 5 Sekunden"
   ]
  },
  {
   "cell_type": "code",
   "execution_count": 65,
   "metadata": {
    "collapsed": true
   },
   "outputs": [],
   "source": [
    "long_str = long_str + long_str"
   ]
  },
  {
   "cell_type": "code",
   "execution_count": 66,
   "metadata": {},
   "outputs": [
    {
     "name": "stdout",
     "output_type": "stream",
     "text": [
      "34.496992000000006 seconds\n"
     ]
    }
   ],
   "source": [
    "start_time = time.clock()\n",
    "times=3\n",
    "\n",
    "for n in range(1,int(len(long_str )/times+1)):\n",
    "    substrings=[long_str [i:i+n] for i in range(len(long_str )-n+1)]\n",
    "    freqs=Counter(substrings)\n",
    "    if freqs.most_common(1)[0][1]<3:\n",
    "        n-=1\n",
    "        break\n",
    "    else:\n",
    "        seq=freqs.most_common(1)[0][0]\n",
    "print(time.clock() - start_time, \"seconds\")"
   ]
  },
  {
   "cell_type": "markdown",
   "metadata": {},
   "source": [
    "# Und wie lange sind alle BG-Urteile?"
   ]
  },
  {
   "cell_type": "code",
   "execution_count": 68,
   "metadata": {
    "collapsed": true
   },
   "outputs": [],
   "source": [
    "df = pd.read_csv('data/df_final_harm.csv')"
   ]
  },
  {
   "cell_type": "code",
   "execution_count": 70,
   "metadata": {},
   "outputs": [],
   "source": [
    "whole_list_of_file_names = []\n",
    "for name in glob.glob('txt_files/*'):\n",
    "    name = name.split('/')[-1]\n",
    "    whole_list_of_file_names.append(name)"
   ]
  },
  {
   "cell_type": "code",
   "execution_count": 73,
   "metadata": {},
   "outputs": [
    {
     "data": {
      "text/plain": [
       "76874"
      ]
     },
     "execution_count": 73,
     "metadata": {},
     "output_type": "execute_result"
    }
   ],
   "source": [
    "len(whole_list_of_file_names)"
   ]
  },
  {
   "cell_type": "code",
   "execution_count": 72,
   "metadata": {
    "collapsed": true
   },
   "outputs": [],
   "source": [
    "super_long_string = ''\n",
    "for elem in whole_list_of_file_names:\n",
    "    file = open('txt_files/' + elem, 'r')\n",
    "    text = file.read()\n",
    "    super_long_string += text"
   ]
  },
  {
   "cell_type": "code",
   "execution_count": 74,
   "metadata": {},
   "outputs": [
    {
     "data": {
      "text/plain": [
       "1004763276"
      ]
     },
     "execution_count": 74,
     "metadata": {},
     "output_type": "execute_result"
    }
   ],
   "source": [
    "len(super_long_string)"
   ]
  },
  {
   "cell_type": "markdown",
   "metadata": {},
   "source": [
    "Um auf dieselbe Länge zu kommen, muss man den long_str Mal addieren. Die Rechendauer hingegen steigert sich um rund das 17 Fache."
   ]
  },
  {
   "cell_type": "code",
   "execution_count": 108,
   "metadata": {},
   "outputs": [
    {
     "name": "stdout",
     "output_type": "stream",
     "text": [
      "Rechendauer sind unglaubliche 5628 Milliarden Jahrtausende.\n"
     ]
    }
   ],
   "source": [
    " print('Rechendauer sind unglaubliche', round(35 ** 17 / 60 / 60 /24 /365 / 1000/ 1000000 / 1000000), 'Milliarden Jahrtausende.')"
   ]
  }
 ],
 "metadata": {
  "kernelspec": {
   "display_name": "Python 3",
   "language": "python",
   "name": "python3"
  },
  "language_info": {
   "codemirror_mode": {
    "name": "ipython",
    "version": 3
   },
   "file_extension": ".py",
   "mimetype": "text/x-python",
   "name": "python",
   "nbconvert_exporter": "python",
   "pygments_lexer": "ipython3",
   "version": "3.5.1"
  }
 },
 "nbformat": 4,
 "nbformat_minor": 2
}
